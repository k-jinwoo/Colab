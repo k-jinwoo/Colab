{
  "nbformat": 4,
  "nbformat_minor": 0,
  "metadata": {
    "colab": {
      "name": "2_Numpy 실습하기.ipynb",
      "provenance": [],
      "collapsed_sections": [],
      "authorship_tag": "ABX9TyPL8F6uaP28Am4nla4n1Dim",
      "include_colab_link": true
    },
    "kernelspec": {
      "name": "python3",
      "display_name": "Python 3"
    },
    "language_info": {
      "name": "python"
    }
  },
  "cells": [
    {
      "cell_type": "markdown",
      "metadata": {
        "id": "view-in-github",
        "colab_type": "text"
      },
      "source": [
        "<a href=\"https://colab.research.google.com/github/k-jinwoo/Colab/blob/main/2_Numpy_%EC%8B%A4%EC%8A%B5%ED%95%98%EA%B8%B0.ipynb\" target=\"_parent\"><img src=\"https://colab.research.google.com/assets/colab-badge.svg\" alt=\"Open In Colab\"/></a>"
      ]
    },
    {
      "cell_type": "code",
      "metadata": {
        "id": "z3oo3zVMM_vh"
      },
      "source": [
        "\"\"\"\n",
        "날짜 : 2021/07/05\n",
        "이름 : 김진우\n",
        "내용 : 파이썬 Numpy 패키지 실습하기\n",
        "\"\"\"\n",
        "import numpy as np"
      ],
      "execution_count": null,
      "outputs": []
    },
    {
      "cell_type": "code",
      "metadata": {
        "colab": {
          "base_uri": "https://localhost:8080/"
        },
        "id": "6Ag7KaUZNUCU",
        "outputId": "5407b285-a57d-4de1-ec64-ff3233041a6e"
      },
      "source": [
        "# numpy 자료구조 - 벡터\n",
        "v1 = np.array([1,2,3,4,5])\n",
        "print(\"v1 : \",v1)\n",
        "\n",
        "v2 = np.arange(5)\n",
        "print('v2 : ',v2)\n",
        "\n",
        "v3 = np.arange(10)\n",
        "print('v3 : ',v3)"
      ],
      "execution_count": null,
      "outputs": [
        {
          "output_type": "stream",
          "text": [
            "v1 :  [1 2 3 4 5]\n",
            "v2 :  [0 1 2 3 4]\n",
            "v3 :  [0 1 2 3 4 5 6 7 8 9]\n"
          ],
          "name": "stdout"
        }
      ]
    },
    {
      "cell_type": "code",
      "metadata": {
        "colab": {
          "base_uri": "https://localhost:8080/"
        },
        "id": "G7T5kLYLOAY1",
        "outputId": "9d86db62-721f-4257-ff02-4cb76f480f25"
      },
      "source": [
        "# 0 - 1 사이의 임의의 실수 100개\n",
        "rand1 = np.random.rand(100)\n",
        "print(rand1)\n",
        "\n",
        "# 표준 정규분포를 따르는 실수 100개\n",
        "rand2 = np.random.randn(100)\n",
        "print(rand2)\n",
        "\n",
        "# 0 - 9 사이의 임의의 정수\n"
      ],
      "execution_count": null,
      "outputs": [
        {
          "output_type": "stream",
          "text": [
            "[0.70278485 0.38109396 0.36063181 0.78274966 0.4173572  0.93311784\n",
            " 0.4595312  0.82331273 0.69292877 0.72994433 0.667748   0.66707997\n",
            " 0.32767427 0.32174444 0.20570909 0.33560109 0.86211397 0.65528\n",
            " 0.28225351 0.25837353 0.22344226 0.50483716 0.10574452 0.78332535\n",
            " 0.04088694 0.17632341 0.28632178 0.8295424  0.86745669 0.03140453\n",
            " 0.39163898 0.31054447 0.54779475 0.48401244 0.87988346 0.06126888\n",
            " 0.19534053 0.98876273 0.21090676 0.97043021 0.14513211 0.60855107\n",
            " 0.25356801 0.40316562 0.6363343  0.02248486 0.44576654 0.46589973\n",
            " 0.84702401 0.21687269 0.55845042 0.8794467  0.61032316 0.85344958\n",
            " 0.85151835 0.84140075 0.42586464 0.92534751 0.66884662 0.95655279\n",
            " 0.43589472 0.46565677 0.3979531  0.40639486 0.85430776 0.71173149\n",
            " 0.5679413  0.70581291 0.47979154 0.57315929 0.32806457 0.41810417\n",
            " 0.39032078 0.36301689 0.95304198 0.23801693 0.37530072 0.07108222\n",
            " 0.07346081 0.44850433 0.6805534  0.21488667 0.74516806 0.64291892\n",
            " 0.22427432 0.88993847 0.87687172 0.2319012  0.94150147 0.00244749\n",
            " 0.50583414 0.85325047 0.5428813  0.8249038  0.31494524 0.28087191\n",
            " 0.38496043 0.02551024 0.13915775 0.19164723]\n",
            "[ 0.63186155  0.31976579 -0.77026276 -0.93818652  0.94045503 -0.99280587\n",
            " -0.97324314  0.03061682  0.9521384  -3.03264843 -1.46332859  0.84845329\n",
            "  0.42433328 -0.85461366 -0.38812429  0.24157672  0.63068548 -0.50370205\n",
            " -0.04408547  1.60456464 -1.06819079  0.71865414  0.54389515 -1.22711849\n",
            "  0.18888919 -0.87818784 -0.2526945   0.58973469 -0.26457193 -0.34216252\n",
            " -0.39611231  1.80506383  1.86286907 -2.09720415 -0.24769671  1.64956553\n",
            " -0.31543305  1.34396847 -0.35519676 -1.37738978  0.93314559  0.02754966\n",
            "  0.24127655 -0.00518583  0.31421668 -0.47379765 -0.74358411  0.48730259\n",
            " -0.33836732 -0.85359017  0.50448166  1.32505631 -0.44744626 -1.24334141\n",
            "  0.87600834 -0.54432038  0.74832626 -0.94178981  0.18700793 -0.48779607\n",
            "  0.97640504 -0.02266954 -1.44403771  0.759901   -0.56079856  1.78538642\n",
            "  0.47277754  0.95239389 -0.60708837  0.22099169 -0.64803688 -0.53057781\n",
            "  1.87548769 -0.57480014  1.08379027 -0.66130504 -0.95666918  0.3372555\n",
            " -0.34619159 -1.09404478  1.13305508  0.41832492 -1.20666085  2.26318869\n",
            "  0.12520721 -1.84075389  0.53086144  1.04605514 -0.82819705  2.61249528\n",
            "  1.38433523 -0.30104408 -0.61272473  0.81694651 -0.84331753 -0.49819071\n",
            "  0.80160545 -1.2386215  -0.46654386  0.55504018]\n"
          ],
          "name": "stdout"
        }
      ]
    },
    {
      "cell_type": "code",
      "metadata": {
        "colab": {
          "base_uri": "https://localhost:8080/"
        },
        "id": "mj6IwWeON2PU",
        "outputId": "5d8ef861-8c35-4e82-c34a-cf063645bf6f"
      },
      "source": [
        "# numpy 자료구조 - 행렬\n",
        "m1 = np.array([[1,2],[3,4]])\n",
        "print(m1)\n",
        "\n",
        "m2 = np.array([[1,2,3],[4,5,6],[7,8,9]])\n",
        "print(m2)\n",
        "\n",
        "m3 = np.ones([2,4])\n",
        "print(m3)\n",
        "\n",
        "m4 = np.zeros([3,2])\n",
        "print(m4)"
      ],
      "execution_count": null,
      "outputs": [
        {
          "output_type": "stream",
          "text": [
            "[[1 2]\n",
            " [3 4]]\n",
            "[[1 2 3]\n",
            " [4 5 6]\n",
            " [7 8 9]]\n",
            "[[1. 1. 1. 1.]\n",
            " [1. 1. 1. 1.]]\n",
            "[[0. 0.]\n",
            " [0. 0.]\n",
            " [0. 0.]]\n"
          ],
          "name": "stdout"
        }
      ]
    },
    {
      "cell_type": "code",
      "metadata": {
        "colab": {
          "base_uri": "https://localhost:8080/"
        },
        "id": "fpD5T4xQOPCs",
        "outputId": "f88ef989-feb3-4fda-ea27-93309d3e4dc3"
      },
      "source": [
        "# 전치 행렬\n",
        "print(m1.T)\n",
        "\n",
        "print(m2.transpose())"
      ],
      "execution_count": null,
      "outputs": [
        {
          "output_type": "stream",
          "text": [
            "[[1 3]\n",
            " [2 4]]\n",
            "[[1 4 7]\n",
            " [2 5 8]\n",
            " [3 6 9]]\n",
            "[[1. 1.]\n",
            " [1. 1.]\n",
            " [1. 1.]\n",
            " [1. 1.]]\n"
          ],
          "name": "stdout"
        }
      ]
    },
    {
      "cell_type": "code",
      "metadata": {
        "colab": {
          "base_uri": "https://localhost:8080/"
        },
        "id": "_crz5khFOR7s",
        "outputId": "d48efcde-e6d5-4a5b-bd6e-b6dac36e2ded"
      },
      "source": [
        "# 단위 행렬\n",
        "e1 = np.identity(2)\n",
        "print(e1)\n",
        "\n",
        "e2 = np.identity(3)\n",
        "print(e2)"
      ],
      "execution_count": null,
      "outputs": [
        {
          "output_type": "stream",
          "text": [
            "[[1. 0.]\n",
            " [0. 1.]]\n",
            "[[1. 0. 0.]\n",
            " [0. 1. 0.]\n",
            " [0. 0. 1.]]\n"
          ],
          "name": "stdout"
        }
      ]
    },
    {
      "cell_type": "code",
      "metadata": {
        "colab": {
          "base_uri": "https://localhost:8080/"
        },
        "id": "ooWXv1W-OUlL",
        "outputId": "dcb01d39-6e1f-4f4e-b6cc-944c516259e5"
      },
      "source": [
        "# 역 행렬\n",
        "im1 = np.linalg.inv(m1)\n",
        "print(im1)\n",
        "\n",
        "print(im1 * im1)\n",
        "\n",
        "result = m1.dot(im1)\n",
        "print(result.round())"
      ],
      "execution_count": null,
      "outputs": [
        {
          "output_type": "stream",
          "text": [
            "[[-2.   1. ]\n",
            " [ 1.5 -0.5]]\n",
            "[[4.   1.  ]\n",
            " [2.25 0.25]]\n",
            "[[1. 0.]\n",
            " [0. 1.]]\n"
          ],
          "name": "stdout"
        }
      ]
    },
    {
      "cell_type": "code",
      "metadata": {
        "colab": {
          "base_uri": "https://localhost:8080/"
        },
        "id": "kf6AAbYiS0CD",
        "outputId": "bfe6b31c-1b6f-4cc1-bf62-f4d94c902628"
      },
      "source": [
        "# 행렬 인덱싱\n",
        "matrix = np.array([[1,2,3,4],[5,6,7,8],[9,10,11,12]])\n",
        "print(matrix)\n",
        "\n",
        "print(matrix[0, 0])\n",
        "print(matrix[0, :])\n",
        "print(matrix[:, 0])\n",
        "\n",
        "print(matrix[0:2, 0:2])\n",
        "print(matrix[:, 0:2])\n",
        "print(matrix[:, 2:4])\n",
        "print(matrix[1:3, 1:3])"
      ],
      "execution_count": null,
      "outputs": [
        {
          "output_type": "stream",
          "text": [
            "[[ 1  2  3  4]\n",
            " [ 5  6  7  8]\n",
            " [ 9 10 11 12]]\n",
            "1\n",
            "[1 2 3 4]\n",
            "[1 5 9]\n",
            "[[1 2]\n",
            " [5 6]]\n",
            "[[ 1  2]\n",
            " [ 5  6]\n",
            " [ 9 10]]\n",
            "[[ 3  4]\n",
            " [ 7  8]\n",
            " [11 12]]\n",
            "[[ 6  7]\n",
            " [10 11]]\n"
          ],
          "name": "stdout"
        }
      ]
    }
  ]
}